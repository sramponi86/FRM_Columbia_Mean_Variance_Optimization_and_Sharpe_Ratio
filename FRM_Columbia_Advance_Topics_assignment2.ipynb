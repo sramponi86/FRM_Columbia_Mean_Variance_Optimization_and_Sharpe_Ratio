{
  "nbformat": 4,
  "nbformat_minor": 0,
  "metadata": {
    "colab": {
      "provenance": [],
      "authorship_tag": "ABX9TyPG6Axjn2U+ZQJG/v2aX4Zk",
      "include_colab_link": true
    },
    "kernelspec": {
      "name": "python3",
      "display_name": "Python 3"
    },
    "language_info": {
      "name": "python"
    }
  },
  "cells": [
    {
      "cell_type": "markdown",
      "metadata": {
        "id": "view-in-github",
        "colab_type": "text"
      },
      "source": [
        "<a href=\"https://colab.research.google.com/github/sramponi86/FRM_Columbia_Mean_Variance_Optimization_and_Sharpe_Ratio/blob/main/FRM_Columbia_Advance_Topics_assignment2.ipynb\" target=\"_parent\"><img src=\"https://colab.research.google.com/assets/colab-badge.svg\" alt=\"Open In Colab\"/></a>"
      ]
    },
    {
      "cell_type": "code",
      "execution_count": 1,
      "metadata": {
        "colab": {
          "base_uri": "https://localhost:8080/"
        },
        "id": "kvsJ1YNGvjsk",
        "outputId": "0f4a64d9-8dd3-46df-d2f6-fbfe0a65147e"
      },
      "outputs": [
        {
          "output_type": "stream",
          "name": "stdout",
          "text": [
            "Implied Volatility: 20%\n"
          ]
        }
      ],
      "source": [
        "import math\n",
        "from scipy.stats import norm\n",
        "\n",
        "# Given parameters\n",
        "C_market = 16.6994  # Observed market price of the call option\n",
        "S = 100             # Spot price of the stock\n",
        "K = 90              # Strike price\n",
        "r = 0.05            # Risk-free interest rate\n",
        "T = 1               # Time to expiration in years\n",
        "\n",
        "# Black-Scholes call option price function\n",
        "def call_price(S, K, T, r, sigma):\n",
        "    d1 = (math.log(S / K) + (r + 0.5 * sigma**2) * T) / (sigma * math.sqrt(T))\n",
        "    d2 = d1 - sigma * math.sqrt(T)\n",
        "    return S * norm.cdf(d1) - K * math.exp(-r * T) * norm.cdf(d2)\n",
        "\n",
        "# Implied volatility calculation using Newton-Raphson method\n",
        "def implied_volatility(S, K, T, r, C_market, tol=1e-5, max_iterations=100):\n",
        "    sigma = 0.2  # Initial guess for volatility\n",
        "    for i in range(max_iterations):\n",
        "        C_calculated = call_price(S, K, T, r, sigma)\n",
        "        vega = S * norm.pdf((math.log(S / K) + (r + 0.5 * sigma**2) * T) / (sigma * math.sqrt(T))) * math.sqrt(T)\n",
        "        price_diff = C_calculated - C_market\n",
        "\n",
        "        # Check if within tolerance\n",
        "        if abs(price_diff) < tol:\n",
        "            return round(sigma * 100)  # Return as percentage, rounded to nearest integer\n",
        "\n",
        "        # Update sigma using Newton-Raphson method\n",
        "        sigma -= price_diff / vega\n",
        "\n",
        "    # If convergence not achieved, return None or a message\n",
        "    return None\n",
        "\n",
        "# Calculate implied volatility\n",
        "implied_vol = implied_volatility(S, K, T, r, C_market)\n",
        "print(f\"Implied Volatility: {implied_vol}%\")"
      ]
    },
    {
      "cell_type": "code",
      "source": [
        "# Parameters\n",
        "S = 100             # Spot price of the stock\n",
        "K = 90              # Strike price of the put option\n",
        "T = 1               # Time to expiration in years\n",
        "r = 0.05            # Risk-free interest rate\n",
        "\n",
        "# Implied volatility from the volatility surface for K = 90\n",
        "sigma = 0.3 * math.exp(-2 * (K / 100 - 1))\n",
        "\n",
        "# Calculate d1 and d2\n",
        "d1 = (math.log(S / K) + (r + 0.5 * sigma**2) * T) / (sigma * math.sqrt(T))\n",
        "d2 = d1 - sigma * math.sqrt(T)\n",
        "\n",
        "# Calculate the European put option price using Black-Scholes formula\n",
        "P = K * math.exp(-r * T) * norm.cdf(-d2) - S * norm.cdf(-d1)\n",
        "\n",
        "# Round to two decimal places\n",
        "P = round(P, 2)\n",
        "\n",
        "# Display the result\n",
        "print(f\"Price of the European Put Option: ${P}\")"
      ],
      "metadata": {
        "colab": {
          "base_uri": "https://localhost:8080/"
        },
        "id": "cJr0n-LRwZqL",
        "outputId": "c43fee6b-068d-4dbe-aece-1d4a3d9470e5"
      },
      "execution_count": 2,
      "outputs": [
        {
          "output_type": "stream",
          "name": "stdout",
          "text": [
            "Price of the European Put Option: $7.47\n"
          ]
        }
      ]
    },
    {
      "cell_type": "code",
      "source": [
        "# Calculating Delta for the call option\n",
        "delta_call = norm.cdf(d1)\n",
        "\n",
        "# Rounding to four decimal places\n",
        "delta_call = round(delta_call, 4)\n",
        "\n",
        "# Calculate the value of the portfolio (net cash flow)\n",
        "net_cash_flow = 7.47 - (delta_call * S)\n",
        "\n",
        "# Rounding to four decimal places\n",
        "net_cash_flow = round(net_cash_flow, 4)\n",
        "\n",
        "# Display the result\n",
        "print(f\"Net Cash Flow of the Delta-Hedged Portfolio: {net_cash_flow}\")"
      ],
      "metadata": {
        "colab": {
          "base_uri": "https://localhost:8080/"
        },
        "id": "ZuixFCqWxS0g",
        "outputId": "1fdaa5a4-244b-4098-d1a1-f5e34ca08fc7"
      },
      "execution_count": 9,
      "outputs": [
        {
          "output_type": "stream",
          "name": "stdout",
          "text": [
            "Net Cash Flow of the Delta-Hedged Portfolio: -65.34\n"
          ]
        }
      ]
    },
    {
      "cell_type": "code",
      "source": [
        "# Parameters\n",
        "S_original = 100    # Original stock price\n",
        "S_new = 95          # New stock price after drop\n",
        "K = 90              # Strike price of the put option\n",
        "T = 1               # Time to expiration in years\n",
        "r = 0.05            # Risk-free interest rate\n",
        "\n",
        "# Original implied volatility at K=90 from the surface\n",
        "sigma_original = 0.3 * math.exp(-2 * (K / 100 - 1))\n",
        "\n",
        "# Calculate d1 and d2 for original price to get the initial Delta\n",
        "d1_original = (math.log(S_original / K) + (r + 0.5 * sigma_original**2) * T) / (sigma_original * math.sqrt(T))\n",
        "d2_original = d1_original - sigma_original * math.sqrt(T)\n",
        "Delta_put_original = -norm.cdf(-d1_original)  # Put Delta\n",
        "\n",
        "# New volatility after 10% increase\n",
        "sigma_new = sigma_original * 1.10\n",
        "\n",
        "# Calculate d1 and d2 with new volatility and new stock price\n",
        "d1_new = (math.log(S_new / K) + (r + 0.5 * sigma_new**2) * T) / (sigma_new * math.sqrt(T))\n",
        "d2_new = d1_new - sigma_new * math.sqrt(T)\n",
        "\n",
        "# New put option price with updated parameters\n",
        "P_new = K * math.exp(-r * T) * norm.cdf(-d2_new) - S_new * norm.cdf(-d1_new)\n",
        "\n",
        "# Calculate the new portfolio value\n",
        "new_portfolio_value = P_new - Delta_put_original * S_new\n",
        "\n",
        "# Calculate the gain or loss (change in portfolio value)\n",
        "initial_portfolio_value = P_new - Delta_put_original * S_original\n",
        "gain_loss = new_portfolio_value - initial_portfolio_value\n",
        "\n",
        "# Round to two decimal places\n",
        "gain_loss = round(gain_loss, 2)\n",
        "\n",
        "# Display the result\n",
        "print(f\"Gain or Loss from the Portfolio: ${gain_loss}\")"
      ],
      "metadata": {
        "colab": {
          "base_uri": "https://localhost:8080/"
        },
        "id": "FeGGF8_2x89J",
        "outputId": "47eafe52-73b6-41ab-94b2-359d7f8db26d"
      },
      "execution_count": 4,
      "outputs": [
        {
          "output_type": "stream",
          "name": "stdout",
          "text": [
            "Gain or Loss from the Portfolio: $-1.36\n"
          ]
        }
      ]
    },
    {
      "cell_type": "code",
      "source": [
        "# Parameters\n",
        "S_initial = 100    # Initial stock price\n",
        "S_new = 95         # New stock price after drop\n",
        "K = 90             # Strike price of the put option\n",
        "T = 1              # Time to expiration in years\n",
        "r = 0.05           # Risk-free interest rate\n",
        "\n",
        "# Original implied volatility at K=90 from the surface\n",
        "sigma_original = 0.3 * math.exp(-2 * (K / 100 - 1))\n",
        "\n",
        "# Calculate initial put option price with S = 100 and original volatility\n",
        "d1_initial = (math.log(S_initial / K) + (r + 0.5 * sigma_original**2) * T) / (sigma_original * math.sqrt(T))\n",
        "d2_initial = d1_initial - sigma_original * math.sqrt(T)\n",
        "P_initial = K * math.exp(-r * T) * norm.cdf(-d2_initial) - S_initial * norm.cdf(-d1_initial)\n",
        "\n",
        "# Calculate put option price with S = 95 and a 10% increase in volatility\n",
        "sigma_new = sigma_original * 1.10\n",
        "d1_new_x = (math.log(S_new / K) + (r + 0.5 * sigma_new**2) * T) / (sigma_new * math.sqrt(T))\n",
        "d2_new_x = d1_new_x - sigma_new * math.sqrt(T)\n",
        "P_new_x = K * math.exp(-r * T) * norm.cdf(-d2_new_x) - S_new * norm.cdf(-d1_new_x)\n",
        "\n",
        "# Calculate put option price with S = 95 and original volatility (no change in volatility)\n",
        "d1_new_y = (math.log(S_new / K) + (r + 0.5 * sigma_original**2) * T) / (sigma_original * math.sqrt(T))\n",
        "d2_new_y = d1_new_y - sigma_original * math.sqrt(T)\n",
        "P_new_y = K * math.exp(-r * T) * norm.cdf(-d2_new_y) - S_new * norm.cdf(-d1_new_y)\n",
        "\n",
        "# Calculate x and y\n",
        "x = P_new_x - P_initial\n",
        "y = P_new_y - P_initial\n",
        "\n",
        "# Calculate the ratio y / x\n",
        "ratio_y_x = y / x if x != 0 else None  # Avoid division by zero\n",
        "\n",
        "# Round to four decimal places\n",
        "ratio_y_x = round(ratio_y_x, 4) if ratio_y_x is not None else \"Undefined\"\n",
        "\n",
        "# Display the result\n",
        "print(f\"Proportion of change in Put option value caused by stock price decrease (y/x): {ratio_y_x}\")"
      ],
      "metadata": {
        "colab": {
          "base_uri": "https://localhost:8080/"
        },
        "id": "bZVpc3mN3VgZ",
        "outputId": "773681f7-528b-4262-e763-85d0a334167d"
      },
      "execution_count": 5,
      "outputs": [
        {
          "output_type": "stream",
          "name": "stdout",
          "text": [
            "Proportion of change in Put option value caused by stock price decrease (y/x): 0.5422\n"
          ]
        }
      ]
    },
    {
      "cell_type": "code",
      "source": [
        "import pandas as pd\n",
        "import math\n",
        "\n",
        "# Parameters\n",
        "r = 0.05       # Risk-free interest rate\n",
        "T = 1          # Time to maturity in years\n",
        "delta_K = 0.1  # Strike price increment for finite difference calculation\n",
        "\n",
        "# Load call prices data from CSV using Pandas\n",
        "# Assumes columns are 'Strike' and 'CallPrice'\n",
        "df = pd.read_csv('Test_FRM.csv')\n",
        "\n",
        "# Ensure that the necessary strikes are present in the DataFrame\n",
        "strikes_needed = [99.9, 100, 100.1]\n",
        "if all(strike in df['Strikes'].values for strike in strikes_needed):\n",
        "    # Retrieve call prices for strikes 99.9, 100, and 100.1\n",
        "    C_99_9 = df.loc[df['Strikes'] == 99.9, 'Call Price'].values[0]\n",
        "    C_100 = df.loc[df['Strikes'] == 100, 'Call Price'].values[0]\n",
        "    C_100_1 = df.loc[df['Strikes'] == 100.1, 'Call Price'].values[0]\n",
        "\n",
        "    # Calculate the second derivative of the call option price with respect to strike K at K=100\n",
        "    second_derivative = (C_100_1 - 2 * C_100 + C_99_9) / (delta_K ** 2)\n",
        "\n",
        "    # Calculate the risk-neutral probability density at S_T = 100\n",
        "    density_100 = math.exp(r * T) * second_derivative\n",
        "\n",
        "    # Round to three decimal places\n",
        "    density_100 = round(density_100, 3)\n",
        "\n",
        "    # Display the result\n",
        "    print(f\"Estimated probability density at S_T = 100: {density_100}\")\n",
        "else:\n",
        "    print(\"Required strike prices (99.9, 100, 100.1) not found in the data.\")"
      ],
      "metadata": {
        "colab": {
          "base_uri": "https://localhost:8080/"
        },
        "id": "ICteXokG46Mk",
        "outputId": "7d00a42b-dd46-450b-aed9-b9512abf20a0"
      },
      "execution_count": 8,
      "outputs": [
        {
          "output_type": "stream",
          "name": "stdout",
          "text": [
            "Estimated probability density at S_T = 100: 0.013\n"
          ]
        }
      ]
    }
  ]
}