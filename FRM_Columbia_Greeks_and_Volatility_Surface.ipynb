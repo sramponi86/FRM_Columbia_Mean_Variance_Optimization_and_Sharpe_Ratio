{
  "nbformat": 4,
  "nbformat_minor": 0,
  "metadata": {
    "colab": {
      "provenance": [],
      "authorship_tag": "ABX9TyMdTvsgA9J4G0FvPifqgMEw",
      "include_colab_link": true
    },
    "kernelspec": {
      "name": "python3",
      "display_name": "Python 3"
    },
    "language_info": {
      "name": "python"
    }
  },
  "cells": [
    {
      "cell_type": "markdown",
      "metadata": {
        "id": "view-in-github",
        "colab_type": "text"
      },
      "source": [
        "<a href=\"https://colab.research.google.com/github/sramponi86/FRM_Columbia_Mean_Variance_Optimization_and_Sharpe_Ratio/blob/main/FRM_Columbia_Greeks_and_Volatility_Surface.ipynb\" target=\"_parent\"><img src=\"https://colab.research.google.com/assets/colab-badge.svg\" alt=\"Open In Colab\"/></a>"
      ]
    },
    {
      "cell_type": "code",
      "source": [
        "import math\n",
        "from scipy.stats import norm"
      ],
      "metadata": {
        "id": "kLkZz2l_jSnI"
      },
      "execution_count": 2,
      "outputs": []
    },
    {
      "cell_type": "code",
      "execution_count": 7,
      "metadata": {
        "colab": {
          "base_uri": "https://localhost:8080/"
        },
        "id": "GCKQuBnDSGQg",
        "outputId": "90c623b4-6ab2-440c-e7cd-00cc1be3ca49"
      },
      "outputs": [
        {
          "output_type": "stream",
          "name": "stdout",
          "text": [
            "d1: -0.1623\n",
            "d2: -0.2623\n",
            "Call Option Price: $5.2122\n"
          ]
        }
      ],
      "source": [
        "# Parameters\n",
        "S = 171.01       # Spot price\n",
        "K = 180          # Strike price\n",
        "T = 1            # Time to maturity in years\n",
        "r = 0.03         # Risk-free interest rate\n",
        "sigma = 0.10     # Volatility\n",
        "\n",
        "# Calculating d1 and d2\n",
        "d1 = (math.log(S / K) + (r + 0.5 * sigma**2) * T) / (sigma * math.sqrt(T))\n",
        "d2 = d1 - sigma * math.sqrt(T)\n",
        "\n",
        "# Calculating the call option price\n",
        "call_price = S * norm.cdf(d1) - K * math.exp(-r * T) * norm.cdf(d2)\n",
        "\n",
        "# Rounding to four decimal places\n",
        "call_price = round(call_price, 4)\n",
        "d1 = round(d1, 4)\n",
        "d2 = round(d2, 4)\n",
        "\n",
        "# Display the results\n",
        "print(f\"d1: {d1}\")\n",
        "print(f\"d2: {d2}\")\n",
        "print(f\"Call Option Price: ${call_price}\")"
      ]
    },
    {
      "cell_type": "code",
      "source": [
        "# Calculating Delta for the call option\n",
        "delta_call = norm.cdf(d1)\n",
        "\n",
        "# Rounding to four decimal places\n",
        "delta_call = round(delta_call, 4)\n",
        "\n",
        "# Display the result\n",
        "print(f\"Delta for Call Option: {delta_call}\")"
      ],
      "metadata": {
        "colab": {
          "base_uri": "https://localhost:8080/"
        },
        "id": "c8HNMbNQTCjl",
        "outputId": "2ef121fc-f24c-4a81-cee1-ca22589b6bd7"
      },
      "execution_count": 8,
      "outputs": [
        {
          "output_type": "stream",
          "name": "stdout",
          "text": [
            "Delta for Call Option: 0.4355\n"
          ]
        }
      ]
    },
    {
      "cell_type": "code",
      "source": [
        "# Calculating N'(d1), the PDF of the standard normal distribution at d1\n",
        "Nd1_prime = (1 / math.sqrt(2 * math.pi)) * math.exp(-0.5 * d1**2)\n",
        "\n",
        "# Calculating Gamma\n",
        "gamma = Nd1_prime / (S * sigma * math.sqrt(T))\n",
        "\n",
        "# Rounding to four decimal places\n",
        "gamma = round(gamma, 4)\n",
        "\n",
        "# Display the result\n",
        "print(f\"Gamma for Call Option: {gamma}\")"
      ],
      "metadata": {
        "colab": {
          "base_uri": "https://localhost:8080/"
        },
        "id": "ajtmNmzcTaD1",
        "outputId": "560c6c3b-8221-4e77-c825-b1789de25eb5"
      },
      "execution_count": 9,
      "outputs": [
        {
          "output_type": "stream",
          "name": "stdout",
          "text": [
            "Gamma for Call Option: 0.023\n"
          ]
        }
      ]
    },
    {
      "cell_type": "code",
      "source": [
        "# Calculating Vega\n",
        "vega = S * math.sqrt(T) * Nd1_prime\n",
        "vega = round(vega, 4)  # Rounding to four decimal places\n",
        "\n",
        "# Calculating Theta for a call option\n",
        "theta_call = (-S * Nd1_prime * sigma / (2 * math.sqrt(T))) - (r * K * math.exp(-r * T) * norm.cdf(d2))\n",
        "theta_call = round(theta_call, 4)  # Rounding to four decimal places\n",
        "\n",
        "# Display the results\n",
        "print(f\"Vega for Call Option: {vega}\")\n",
        "print(f\"Theta for Call Option: {theta_call}\")"
      ],
      "metadata": {
        "colab": {
          "base_uri": "https://localhost:8080/"
        },
        "id": "DjtMsqFrTxSv",
        "outputId": "8455b17a-fb06-44dc-e9ce-ff3fef5b3bb7"
      },
      "execution_count": 10,
      "outputs": [
        {
          "output_type": "stream",
          "name": "stdout",
          "text": [
            "Vega for Call Option: 67.3305\n",
            "Theta for Call Option: -5.4446\n"
          ]
        }
      ]
    },
    {
      "cell_type": "code",
      "source": [
        "# Parameters\n",
        "S = 171.01       # Spot price (AAPL share price)\n",
        "C = 5.2122       # Call option price (replace with actual computed value from Q1)\n",
        "Delta_call = 0.4355  # Delta of the call option (replace with actual computed value from Q2)\n",
        "\n",
        "# Calculate the value of the portfolio (net cash flow)\n",
        "net_cash_flow = C - (Delta_call * S)\n",
        "\n",
        "# Rounding to four decimal places\n",
        "net_cash_flow = round(net_cash_flow, 4)\n",
        "\n",
        "# Display the result\n",
        "print(f\"Net Cash Flow of the Delta-Hedged Portfolio: {net_cash_flow}\")"
      ],
      "metadata": {
        "colab": {
          "base_uri": "https://localhost:8080/"
        },
        "id": "zQqxx_ZMUIN6",
        "outputId": "b06222c8-e774-4d1c-aebb-b32e68d65db4"
      },
      "execution_count": 11,
      "outputs": [
        {
          "output_type": "stream",
          "name": "stdout",
          "text": [
            "Net Cash Flow of the Delta-Hedged Portfolio: -69.2627\n"
          ]
        }
      ]
    },
    {
      "cell_type": "code",
      "source": [
        "# Updated parameters for April 8, 2019\n",
        "S_new = 180.2       # Updated spot price\n",
        "K = 180             # Strike price\n",
        "T_new = 11 / 12     # Time to maturity in years (approx 0.9167 years)\n",
        "r = 0.03            # Risk-free interest rate\n",
        "sigma = 0.10        # Volatility\n",
        "\n",
        "# Recalculating d1 and Delta with updated S and T\n",
        "d1_new = (math.log(S_new / K) + (r + 0.5 * sigma**2) * T_new) / (sigma * math.sqrt(T_new))\n",
        "Delta_call_new = norm.cdf(d1_new)  # New Delta\n",
        "\n",
        "# Initial Delta from March 8, 2019 (replace with actual value calculated in Q2)\n",
        "Delta_call_initial = 0.4355  # Example placeholder; use calculated Delta from March 8\n",
        "\n",
        "# Calculate the additional shares to buy or sell\n",
        "additional_shares = Delta_call_new - Delta_call_initial\n",
        "additional_shares = round(additional_shares, 4)  # Rounding to four decimal places\n",
        "\n",
        "# Display the result\n",
        "print(f\"Additional shares needed for re-hedging: {additional_shares}\")"
      ],
      "metadata": {
        "colab": {
          "base_uri": "https://localhost:8080/"
        },
        "id": "iRZmubftUaCg",
        "outputId": "bc73dde2-1719-4a7e-d106-49dfa0f2875f"
      },
      "execution_count": 12,
      "outputs": [
        {
          "output_type": "stream",
          "name": "stdout",
          "text": [
            "Additional shares needed for re-hedging: 0.2001\n"
          ]
        }
      ]
    },
    {
      "cell_type": "code",
      "source": [
        "# Parameters as of April 8, 2019\n",
        "S_new = 180.2       # Updated spot price\n",
        "K = 180             # Strike price\n",
        "T_new = 11 / 12     # Updated time to maturity in years (approx 0.9167 years)\n",
        "r = 0.03            # Risk-free interest rate\n",
        "sigma = 0.10        # Volatility\n",
        "\n",
        "# Initial values from March 8, 2019 (replace with actual calculated values from earlier questions)\n",
        "S_old = 171.01\n",
        "Delta_old = 0.4355    # Initial Delta (replace with actual calculation)\n",
        "C_old = 5.2122        # Initial call option price (replace with actual calculation)\n",
        "Portfolio_old = C_old - (Delta_old * S_old)\n",
        "\n",
        "# Recalculating d1, d2, and call option price for April 8, 2019\n",
        "d1_new = (math.log(S_new / K) + (r + 0.5 * sigma**2) * T_new) / (sigma * math.sqrt(T_new))\n",
        "d2_new = d1_new - sigma * math.sqrt(T_new)\n",
        "\n",
        "# Calculate new Delta and call price\n",
        "Delta_new = norm.cdf(d1_new)\n",
        "C_new = S_new * norm.cdf(d1_new) - K * math.exp(-r * T_new) * norm.cdf(d2_new)\n",
        "\n",
        "# Calculate new portfolio value\n",
        "Portfolio_new = C_new - (Delta_new * S_new)\n",
        "\n",
        "# Calculate the change in portfolio value\n",
        "Delta_Portfolio = Portfolio_new - Portfolio_old\n",
        "\n",
        "# Discount the change in portfolio value to present value at April 8, 2019\n",
        "Delta_Portfolio_PV = Delta_Portfolio / (1 + r / 12)\n",
        "\n",
        "# Rounding to four decimal places\n",
        "Delta_Portfolio_PV = round(Delta_Portfolio_PV, 4)\n",
        "\n",
        "# Display the result\n",
        "print(f\"Change in Portfolio Value (present value at April 8, 2019): ${Delta_Portfolio_PV}\")"
      ],
      "metadata": {
        "colab": {
          "base_uri": "https://localhost:8080/"
        },
        "id": "3jxKQavOUuD0",
        "outputId": "bd2d94df-5fdf-4a32-921f-a9b8c920063c"
      },
      "execution_count": 13,
      "outputs": [
        {
          "output_type": "stream",
          "name": "stdout",
          "text": [
            "Change in Portfolio Value (present value at April 8, 2019): $-35.5571\n"
          ]
        }
      ]
    },
    {
      "cell_type": "markdown",
      "source": [
        "# Volatility Surface"
      ],
      "metadata": {
        "id": "fKoklpbYXeUl"
      }
    },
    {
      "cell_type": "code",
      "source": [
        "# Parameters\n",
        "S = 171.01       # Spot price of AAPL\n",
        "K1 = 180         # Strike price for the call we are buying\n",
        "K2 = 185         # Strike price for the call we are selling\n",
        "T = 1            # Time to maturity in years\n",
        "r = 0.03         # Risk-free interest rate\n",
        "sigma = 0.10     # Volatility\n",
        "\n",
        "# Calculate d1 and d2 for both strikes\n",
        "d1_K1 = (math.log(S / K1) + (r + 0.5 * sigma**2) * T) / (sigma * math.sqrt(T))\n",
        "d2_K1 = d1_K1 - sigma * math.sqrt(T)\n",
        "\n",
        "d1_K2 = (math.log(S / K2) + (r + 0.5 * sigma**2) * T) / (sigma * math.sqrt(T))\n",
        "d2_K2 = d1_K2 - sigma * math.sqrt(T)\n",
        "\n",
        "# Calculate call prices for both strikes\n",
        "C_K1 = S * norm.cdf(d1_K1) - K1 * math.exp(-r * T) * norm.cdf(d2_K1)\n",
        "C_K2 = S * norm.cdf(d1_K2) - K2 * math.exp(-r * T) * norm.cdf(d2_K2)\n",
        "\n",
        "# Portfolio value: long call at K1 and short call at K2\n",
        "V = C_K1 - C_K2\n",
        "\n",
        "# Rounding to four decimal places\n",
        "V = round(V, 4)\n",
        "\n",
        "# Display the result\n",
        "print(f\"Portfolio Value V on March 8, 2019: ${V}\")"
      ],
      "metadata": {
        "colab": {
          "base_uri": "https://localhost:8080/"
        },
        "id": "wYD1O0YEXjmo",
        "outputId": "48a8d33f-1c81-4c82-f410-d9208e2b9e5e"
      },
      "execution_count": 16,
      "outputs": [
        {
          "output_type": "stream",
          "name": "stdout",
          "text": [
            "Portfolio Value V on March 8, 2019: $1.6743\n"
          ]
        }
      ]
    },
    {
      "cell_type": "code",
      "source": [
        "# Volatilities with skew\n",
        "sigma_K1 = min(1, 18 / K1)   # Volatility for strike 180\n",
        "sigma_K2 = min(1, 18 / K2)   # Volatility for strike 185\n",
        "\n",
        "# Calculate d1 and d2 for both strikes with respective volatilities\n",
        "d1_K1 = (math.log(S / K1) + (r + 0.5 * sigma_K1**2) * T) / (sigma_K1 * math.sqrt(T))\n",
        "d2_K1 = d1_K1 - sigma_K1 * math.sqrt(T)\n",
        "\n",
        "d1_K2 = (math.log(S / K2) + (r + 0.5 * sigma_K2**2) * T) / (sigma_K2 * math.sqrt(T))\n",
        "d2_K2 = d1_K2 - sigma_K2 * math.sqrt(T)\n",
        "\n",
        "# Calculate call prices for both strikes with respective volatilities\n",
        "C_K1_skew = S * norm.cdf(d1_K1) - K1 * math.exp(-r * T) * norm.cdf(d2_K1)\n",
        "C_K2_skew = S * norm.cdf(d1_K2) - K2 * math.exp(-r * T) * norm.cdf(d2_K2)\n",
        "\n",
        "# Portfolio value with volatility skew\n",
        "V_skew = C_K1_skew - C_K2_skew\n",
        "\n",
        "# Rounding to four decimal places\n",
        "V_skew = round(V_skew, 4)\n",
        "\n",
        "# Display the result\n",
        "print(f\"Portfolio Value V' with Volatility Skew on March 8, 2019: ${V_skew}\")"
      ],
      "metadata": {
        "colab": {
          "base_uri": "https://localhost:8080/"
        },
        "id": "JQpOkLF1YNt6",
        "outputId": "b7374a30-68fd-40b7-c9f7-53910b4f6345"
      },
      "execution_count": 17,
      "outputs": [
        {
          "output_type": "stream",
          "name": "stdout",
          "text": [
            "Portfolio Value V' with Volatility Skew on March 8, 2019: $1.8414\n"
          ]
        }
      ]
    },
    {
      "cell_type": "markdown",
      "source": [
        "# Digital Option and Volatility Surface"
      ],
      "metadata": {
        "id": "lO-aR0MSYaAo"
      }
    },
    {
      "cell_type": "code",
      "source": [
        "# Parameters\n",
        "S = 171.01       # Spot price of AAPL\n",
        "K = 180          # Strike price\n",
        "T = 1            # Time to maturity in years\n",
        "r = 0.03         # Risk-free interest rate\n",
        "sigma = 0.10     # Volatility\n",
        "\n",
        "# Calculate d2\n",
        "d2 = (math.log(S / K) + (r - 0.5 * sigma**2) * T) / (sigma * math.sqrt(T))\n",
        "\n",
        "# Calculate the digital call option price\n",
        "digital_call_price = math.exp(-r * T) * norm.cdf(d2)\n",
        "\n",
        "# Rounding to four decimal places\n",
        "digital_call_price = round(digital_call_price, 4)\n",
        "\n",
        "# Display the result\n",
        "print(f\"Digital Call Option Price on March 8, 2019: ${digital_call_price}\")"
      ],
      "metadata": {
        "colab": {
          "base_uri": "https://localhost:8080/"
        },
        "id": "7aIDFrovYdqb",
        "outputId": "32277676-f538-48bf-a628-078c491f4ae2"
      },
      "execution_count": 3,
      "outputs": [
        {
          "output_type": "stream",
          "name": "stdout",
          "text": [
            "Digital Call Option Price on March 8, 2019: $0.3848\n"
          ]
        }
      ]
    },
    {
      "cell_type": "code",
      "source": [
        "# Calculate d2\n",
        "d2 = (math.log(S / K) + (r - 0.5 * sigma**2) * T) / (sigma * math.sqrt(T))\n",
        "\n",
        "# Calculate N'(d2), the PDF of the standard normal distribution at d2\n",
        "Nd2_prime = (1 / math.sqrt(2 * math.pi)) * math.exp(-0.5 * d2**2)\n",
        "\n",
        "# Calculate Delta for the digital call option\n",
        "delta_digital = (math.exp(-r * T) * Nd2_prime) / (S * sigma * math.sqrt(T))\n",
        "\n",
        "# Rounding to four decimal places\n",
        "delta_digital = round(delta_digital, 4)\n",
        "\n",
        "# Display the result\n",
        "print(f\"Delta Hedge for Digital Call Option: {delta_digital}\")"
      ],
      "metadata": {
        "colab": {
          "base_uri": "https://localhost:8080/"
        },
        "id": "yJqZBB4gjc2w",
        "outputId": "e041f7ea-1ba5-41b2-e423-17e68d3283da"
      },
      "execution_count": 4,
      "outputs": [
        {
          "output_type": "stream",
          "name": "stdout",
          "text": [
            "Delta Hedge for Digital Call Option: 0.0219\n"
          ]
        }
      ]
    },
    {
      "cell_type": "code",
      "source": [
        "K1 = 180         # Strike price for the digital call we are buying\n",
        "K2 = 185         # Strike price for the digital call we are selling\n",
        "\n",
        "\n",
        "# Calculate d2 for both strikes\n",
        "d2_K1 = (math.log(S / K1) + (r - 0.5 * sigma**2) * T) / (sigma * math.sqrt(T))\n",
        "d2_K2 = (math.log(S / K2) + (r - 0.5 * sigma**2) * T) / (sigma * math.sqrt(T))\n",
        "\n",
        "# Calculate digital call prices for both strikes\n",
        "price_digital_K1 = math.exp(-r * T) * norm.cdf(d2_K1)\n",
        "price_digital_K2 = math.exp(-r * T) * norm.cdf(d2_K2)\n",
        "\n",
        "# Calculate portfolio value W\n",
        "W = price_digital_K1 - price_digital_K2\n",
        "\n",
        "# Rounding to four decimal places\n",
        "W = round(W, 4)\n",
        "\n",
        "# Display the result\n",
        "print(f\"Portfolio Value W on March 8, 2019: ${W}\")"
      ],
      "metadata": {
        "colab": {
          "base_uri": "https://localhost:8080/"
        },
        "id": "36lN5M_Cj8ND",
        "outputId": "77e6bb1c-c6cc-4283-cc6f-4ef673fa3285"
      },
      "execution_count": 5,
      "outputs": [
        {
          "output_type": "stream",
          "name": "stdout",
          "text": [
            "Portfolio Value W on March 8, 2019: $0.0977\n"
          ]
        }
      ]
    },
    {
      "cell_type": "code",
      "source": [
        "# Volatility skew calculations\n",
        "sigma_K1 = min(1, 18 / K1)   # Volatility for strike 180\n",
        "sigma_K2 = min(1, 18 / K2)   # Volatility for strike 185\n",
        "\n",
        "# Derivative of skewed volatility with respect to K\n",
        "d_sigma_dK1 = -18 / K1**2\n",
        "d_sigma_dK2 = -18 / K2**2\n",
        "\n",
        "# Calculate d1 and d2 for both strikes with respective volatilities\n",
        "d1_K1 = (math.log(S / K1) + (r + 0.5 * sigma_K1**2) * T) / (sigma_K1 * math.sqrt(T))\n",
        "d2_K1 = d1_K1 - sigma_K1 * math.sqrt(T)\n",
        "\n",
        "d1_K2 = (math.log(S / K2) + (r + 0.5 * sigma_K2**2) * T) / (sigma_K2 * math.sqrt(T))\n",
        "d2_K2 = d1_K2 - sigma_K2 * math.sqrt(T)\n",
        "\n",
        "# Calculate partial derivatives for call price with respect to K and sigma\n",
        "partial_C_K1 = -math.exp(-r * T) * norm.cdf(d2_K1)\n",
        "partial_C_sigma_K1 = S * math.sqrt(T) * (1 / math.sqrt(2 * math.pi)) * math.exp(-0.5 * d1_K1**2)\n",
        "digital_price_K1 = -partial_C_K1 - partial_C_sigma_K1 * d_sigma_dK1\n",
        "\n",
        "partial_C_K2 = -math.exp(-r * T) * norm.cdf(d2_K2)\n",
        "partial_C_sigma_K2 = S * math.sqrt(T) * (1 / math.sqrt(2 * math.pi)) * math.exp(-0.5 * d1_K2**2)\n",
        "digital_price_K2 = -partial_C_K2 - partial_C_sigma_K2 * d_sigma_dK2\n",
        "\n",
        "# Calculate portfolio value W' with skew\n",
        "W_skew = digital_price_K1 - digital_price_K2\n",
        "\n",
        "# Rounding to four decimal places\n",
        "W_skew = round(W_skew, 4)\n",
        "\n",
        "# Display the result\n",
        "print(f\"Portfolio Value W' with Volatility Skew on March 8, 2019: ${W_skew}\")"
      ],
      "metadata": {
        "colab": {
          "base_uri": "https://localhost:8080/"
        },
        "id": "PLWL3YUvkU6t",
        "outputId": "d3553c23-b7de-4e67-de66-9b7a69dc1cbd"
      },
      "execution_count": 18,
      "outputs": [
        {
          "output_type": "stream",
          "name": "stdout",
          "text": [
            "Portfolio Value W' with Volatility Skew on March 8, 2019: $0.1067\n"
          ]
        }
      ]
    }
  ]
}